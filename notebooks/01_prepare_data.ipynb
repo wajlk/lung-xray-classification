{
 "cells": [
  {
   "cell_type": "code",
   "execution_count": 1,
   "id": "0b7a496a-3e9b-448a-9c31-fa759a8df667",
   "metadata": {},
   "outputs": [],
   "source": [
    "from sklearn.model_selection import train_test_split\n",
    "import os\n",
    "import shutil"
   ]
  },
  {
   "cell_type": "code",
   "execution_count": 3,
   "id": "8fc9a8ec-8b38-40a5-b37a-e8b4a146fb32",
   "metadata": {},
   "outputs": [],
   "source": [
    "original_dataset = \"data/original\"  \n",
    "target_base = \"data\""
   ]
  },
  {
   "cell_type": "code",
   "execution_count": 5,
   "id": "a16d890f-f5d3-4ff4-954a-ccc460f793a6",
   "metadata": {},
   "outputs": [],
   "source": [
    "# Creating directory structure\n",
    "for split in [\"train\", \"val\", \"test\"]:\n",
    "    for cls in [\"covid\", \"normal\", \"pneumonia\"]:\n",
    "        os.makedirs(os.path.join(target_base, split, cls), exist_ok=True)"
   ]
  },
  {
   "cell_type": "code",
   "execution_count": 7,
   "id": "1773f58b-bc97-47aa-98d2-638d568fb821",
   "metadata": {},
   "outputs": [],
   "source": [
    "for cls in [\"covid\", \"normal\", \"pneumonia\"]:\n",
    "    src_folder = os.path.join(original_dataset, cls, \"images\") \n",
    "    files = os.listdir(src_folder)\n",
    "    trainval, test = train_test_split(files, test_size=0.1, random_state=42)\n",
    "    train, val = train_test_split(trainval, test_size=0.1, random_state=42)\n",
    "\n",
    "    for subset, split in zip([train, val, test], [\"train\", \"val\", \"test\"]):\n",
    "        for fname in subset:\n",
    "            src = os.path.join(src_folder, fname)\n",
    "            dst = os.path.join(target_base, split, cls, fname)\n",
    "            shutil.copyfile(src, dst)"
   ]
  },
  {
   "cell_type": "code",
   "execution_count": null,
   "id": "7bfdb092-b561-48aa-8691-031c3234bce6",
   "metadata": {},
   "outputs": [],
   "source": []
  }
 ],
 "metadata": {
  "kernelspec": {
   "display_name": "Python 3 (ipykernel)",
   "language": "python",
   "name": "python3"
  },
  "language_info": {
   "codemirror_mode": {
    "name": "ipython",
    "version": 3
   },
   "file_extension": ".py",
   "mimetype": "text/x-python",
   "name": "python",
   "nbconvert_exporter": "python",
   "pygments_lexer": "ipython3",
   "version": "3.12.7"
  }
 },
 "nbformat": 4,
 "nbformat_minor": 5
}
